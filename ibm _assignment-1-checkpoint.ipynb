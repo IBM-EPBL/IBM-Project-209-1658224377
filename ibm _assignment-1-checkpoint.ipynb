{
 "cells": [
  {
   "cell_type": "code",
   "execution_count": 1,
   "id": "faea356d",
   "metadata": {},
   "outputs": [
    {
     "name": "stdout",
     "output_type": "stream",
     "text": [
      "['i', 'e']\n",
      "['i']\n",
      "['i', 'e']\n",
      "['e', 'i']\n",
      "['e']\n",
      "['e']\n"
     ]
    }
   ],
   "source": [
    "#question1Consider a list (list = []). \n",
    "# You can perform the following commands:\n",
    "# Insert i e :Insert Integer at position \n",
    "# • print: Print the list \n",
    "# • remove e: Delete the first occurrence of integer,\n",
    "#  • append e: Insert integer at the end of the list\n",
    "# • sort: Sort the list \n",
    "# • pop: Pop the last element from the list.\n",
    "#  • reverse: Reverse the list \n",
    "# Intialize your list and read in the value of followed by lines of commands where each command will be of the types listed above. Iterate through each command in order and perform the corresponding operation on your list \n",
    "\n",
    "list1=[]\n",
    "list1.insert(0,\"i\")\n",
    "list1.insert(1,\"e\")\n",
    "print(list1)\n",
    "list1.remove(\"e\")\n",
    "print(list1)\n",
    "list1.append(\"e\")\n",
    "print(list1)\n",
    "list1.sort()\n",
    "print(list1)\n",
    "list1.pop()\n",
    "print(list1)\n",
    "list1.reverse()\n",
    "print(list1)\n"
   ]
  },
  {
   "cell_type": "code",
   "execution_count": 4,
   "id": "ef71eb9f",
   "metadata": {},
   "outputs": [
    {
     "name": "stdout",
     "output_type": "stream",
     "text": [
      "15\n",
      "200\n",
      "2\n",
      "2\n"
     ]
    }
   ],
   "source": [
    "#question2:2.\tWrite a Calculator program in Python? \n",
    "def calc(num1,num2,oper):\n",
    "    if oper==\"add\":\n",
    "        return num1+num2\n",
    "    elif oper==\"sub\":\n",
    "        return num1-num2\n",
    "    elif oper==\"mul\":\n",
    "        return num1*num2\n",
    "    elif oper==\"div\":\n",
    "        return num1//num2\n",
    "a=calc(10,5,\"add\")\n",
    "print(a)\n",
    "b=calc(20,10,\"mul\")\n",
    "print(b)\n",
    "c=calc(7,5,\"sub\")\n",
    "print(c)\n",
    "d=calc(20,10,\"div\")\n",
    "print(d)\n"
   ]
  },
  {
   "cell_type": "code",
   "execution_count": 3,
   "id": "801eaf59",
   "metadata": {},
   "outputs": [
    {
     "name": "stdout",
     "output_type": "stream",
     "text": [
      "sneghashri\n",
      "egh\n",
      "ahgens\n"
     ]
    }
   ],
   "source": [
    "#question3:3.\tWrite a program to concatenate, reverse and slice a string? \n",
    "string1=\"snegha\"\n",
    "string2=\"shri\"\n",
    "print(string1+string2)\n",
    "print(string1[2:5])\n",
    "print(string1[::-1])\n"
   ]
  },
  {
   "cell_type": "code",
   "execution_count": null,
   "id": "fae53b6a",
   "metadata": {},
   "outputs": [],
   "source": [
    "#question4:\n",
    "# 4.\tWhy is Python a popular programming language? \n",
    "# Answer:\n",
    "# Python is straightforward in comparison to any other programming language.\n",
    "# This is the best user-friendly, efficient. Python has an enormous number of inbuilt libraries.\n",
    "# Machine learning, IoT development, automation are using Python as their primary language.\n",
    "# Python is a faster language in comparison to any other coding language. \n",
    "# It can work in any environment without any performance loss. \n",
    "# Its efficiency and reliability make it perfect for new age subjects like machine learning, deep learning, AI, etc. \n"
   ]
  },
  {
   "cell_type": "code",
   "execution_count": null,
   "id": "a242eef0",
   "metadata": {},
   "outputs": [],
   "source": [
    "#question5:\n",
    "# 5.\tWhat are the other Frameworks that can be used with python? \n",
    "# Answer:\n",
    "# There are various frameworks of python like:\n",
    "# •\tBottle\n",
    "# •\tFlask\n",
    "# •\tDjango \n",
    "# •\tWeb2py\n",
    "# •\tAIOHTTP\n",
    "# •\tCherryPy\n",
    "# •\tDash\n",
    "# •\tFalcon\n",
    "# •\tGrowler\n",
    "# •\tUvLoop\n",
    "# •\tPyramid \n",
    "# •\tSanic\n",
    "# •\tCubicWeb \n",
    "# •\tTurboGears\n",
    "# •\tHug\n",
    "# •\tMorePath\n"
   ]
  },
  {
   "cell_type": "code",
   "execution_count": null,
   "id": "f0e60923",
   "metadata": {},
   "outputs": [],
   "source": [
    "#question6:\n",
    "# 6.\tFull form of WSGI?\n",
    "# Answer:\n",
    "# Web Server Gateway Interface\n"
   ]
  }
 ],
 "metadata": {
  "kernelspec": {
   "display_name": "Python 3 (ipykernel)",
   "language": "python",
   "name": "python3"
  },
  "language_info": {
   "codemirror_mode": {
    "name": "ipython",
    "version": 3
   },
   "file_extension": ".py",
   "mimetype": "text/x-python",
   "name": "python",
   "nbconvert_exporter": "python",
   "pygments_lexer": "ipython3",
   "version": "3.9.7"
  }
 },
 "nbformat": 4,
 "nbformat_minor": 5
}
